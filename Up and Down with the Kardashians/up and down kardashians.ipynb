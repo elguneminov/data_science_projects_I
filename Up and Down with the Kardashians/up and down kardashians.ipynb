{
 "cells": [
  {
   "cell_type": "markdown",
   "metadata": {
    "dc": {
     "key": "3"
    },
    "deletable": false,
    "editable": false,
    "run_control": {
     "frozen": true
    },
    "tags": [
     "context"
    ]
   },
   "source": [
    "## 1. The sisters and Google Trends\n",
    "<p>While I'm not a fan nor a hater of the Kardashians and Jenners, the polarizing family intrigues me. Why? Their marketing prowess. Say what you will about them and what they stand for, they are great at the hype game. Everything they touch turns to content.</p>\n",
    "<p>The sisters in particular over the past decade have been especially productive in this regard. Let's get some facts straight. I consider the \"sisters\" to be the following daughters of Kris Jenner. Three from her first marriage to lawyer <a href=\"https://en.wikipedia.org/wiki/Robert_Kardashian\">Robert Kardashian</a>:</p>\n",
    "<ul>\n",
    "<li><a href=\"https://en.wikipedia.org/wiki/Kourtney_Kardashian\">Kourtney Kardashian</a> (daughter of Robert Kardashian, born in 1979)</li>\n",
    "<li><a href=\"https://en.wikipedia.org/wiki/Kim_Kardashian\">Kim Kardashian</a> (daughter of Robert Kardashian, born in 1980)</li>\n",
    "<li><a href=\"https://en.wikipedia.org/wiki/Khlo%C3%A9_Kardashian\">Khloé Kardashian</a> (daughter of Robert Kardashian, born in 1984)</li>\n",
    "</ul>\n",
    "<p>And two from her second marriage to Olympic gold medal-winning decathlete, <a href=\"https://en.wikipedia.org/wiki/Caitlyn_Jenner\">Caitlyn Jenner</a> (formerly Bruce):</p>\n",
    "<ul>\n",
    "<li><a href=\"https://en.wikipedia.org/wiki/Kendall_Jenner\">Kendall Jenner</a> (daughter of Caitlyn Jenner, born in 1995)</li>\n",
    "<li><a href=\"https://en.wikipedia.org/wiki/Kylie_Jenner\">Kylie Jenner</a> (daughter of Caitlyn Jenner, born in 1997)</li>\n",
    "</ul>\n",
    "![Kardashian Jenner sisters family tree](kardashian_jenner_family_tree.png.png)" 
    "<p>This family tree can be confusing, but we aren't here to explain it. We're here to explore the data underneath the hype, and we'll do it using search interest data from Google Trends. We'll recreate the Google Trends plot to visualize their ups and downs over time, then make a few custom plots of our own. And we'll answer the big question: <strong>is Kim even the most famous sister anymore?</strong></p>\n",
    "<p>First, let's load and inspect our Google Trends data, which was downloaded in CSV form. The <a href=\"https://trends.google.com/trends/explore?date=2007-01-01%202019-03-21&q=%2Fm%2F0261x8t,%2Fm%2F043p2f2,%2Fm%2F043ttm7,%2Fm%2F05_5_yx,%2Fm%2F05_5_yh\">query</a> parameters: each of the sisters, worldwide search data, 2007 to present day. (2007 was the year Kim became \"active\" according to Wikipedia.)</p>"
   ]
  },
  {
   "cell_type": "code",
   "execution_count": 4,
   "metadata": {
    "dc": {
     "key": "3"
    },
    "tags": [
     "sample_code"
    ]
   },
   "outputs": [
    {
     "data": {
      "text/html": [
       "<div>\n",
       "<style scoped>\n",
       "    .dataframe tbody tr th:only-of-type {\n",
       "        vertical-align: middle;\n",
       "    }\n",
       "\n",
       "    .dataframe tbody tr th {\n",
       "        vertical-align: top;\n",
       "    }\n",
       "\n",
       "    .dataframe thead th {\n",
       "        text-align: right;\n",
       "    }\n",
       "</style>\n",
       "<table border=\"1\" class=\"dataframe\">\n",
       "  <thead>\n",
       "    <tr style=\"text-align: right;\">\n",
       "      <th></th>\n",
       "      <th>Month</th>\n",
       "      <th>Kim Kardashian: (Worldwide)</th>\n",
       "      <th>Khloé Kardashian: (Worldwide)</th>\n",
       "      <th>Kourtney Kardashian: (Worldwide)</th>\n",
       "      <th>Kendall Jenner: (Worldwide)</th>\n",
       "      <th>Kylie Jenner: (Worldwide)</th>\n",
       "    </tr>\n",
       "  </thead>\n",
       "  <tbody>\n",
       "    <tr>\n",
       "      <th>0</th>\n",
       "      <td>2007-01</td>\n",
       "      <td>2</td>\n",
       "      <td>&lt;1</td>\n",
       "      <td>&lt;1</td>\n",
       "      <td>&lt;1</td>\n",
       "      <td>2</td>\n",
       "    </tr>\n",
       "    <tr>\n",
       "      <th>1</th>\n",
       "      <td>2007-02</td>\n",
       "      <td>12</td>\n",
       "      <td>&lt;1</td>\n",
       "      <td>&lt;1</td>\n",
       "      <td>&lt;1</td>\n",
       "      <td>2</td>\n",
       "    </tr>\n",
       "    <tr>\n",
       "      <th>2</th>\n",
       "      <td>2007-03</td>\n",
       "      <td>9</td>\n",
       "      <td>&lt;1</td>\n",
       "      <td>&lt;1</td>\n",
       "      <td>&lt;1</td>\n",
       "      <td>1</td>\n",
       "    </tr>\n",
       "    <tr>\n",
       "      <th>3</th>\n",
       "      <td>2007-04</td>\n",
       "      <td>6</td>\n",
       "      <td>&lt;1</td>\n",
       "      <td>&lt;1</td>\n",
       "      <td>&lt;1</td>\n",
       "      <td>1</td>\n",
       "    </tr>\n",
       "    <tr>\n",
       "      <th>4</th>\n",
       "      <td>2007-05</td>\n",
       "      <td>6</td>\n",
       "      <td>&lt;1</td>\n",
       "      <td>&lt;1</td>\n",
       "      <td>&lt;1</td>\n",
       "      <td>2</td>\n",
       "    </tr>\n",
       "  </tbody>\n",
       "</table>\n",
       "</div>"
      ],
      "text/plain": [
       "     Month  Kim Kardashian: (Worldwide) Khloé Kardashian: (Worldwide)  \\\n",
       "0  2007-01                            2                            <1   \n",
       "1  2007-02                           12                            <1   \n",
       "2  2007-03                            9                            <1   \n",
       "3  2007-04                            6                            <1   \n",
       "4  2007-05                            6                            <1   \n",
       "\n",
       "  Kourtney Kardashian: (Worldwide) Kendall Jenner: (Worldwide)  \\\n",
       "0                               <1                          <1   \n",
       "1                               <1                          <1   \n",
       "2                               <1                          <1   \n",
       "3                               <1                          <1   \n",
       "4                               <1                          <1   \n",
       "\n",
       "   Kylie Jenner: (Worldwide)  \n",
       "0                          2  \n",
       "1                          2  \n",
       "2                          1  \n",
       "3                          1  \n",
       "4                          2  "
      ]
     },
     "execution_count": 4,
     "metadata": {},
     "output_type": "execute_result"
    }
   ],
   "source": [
    "# Load pandas\n",
    "import pandas as pd\n",
    "\n",
    "# Read in dataset\n",
    "trends = pd.read_csv('trends_kj_sisters.csv')\n",
    "\n",
    "# Inspect data\n",
    "trends.head()"
   ]
  },
  {
   "cell_type": "markdown",
   "metadata": {
    "dc": {
     "key": "10"
    },
    "deletable": false,
    "editable": false,
    "run_control": {
     "frozen": true
    },
    "tags": [
     "context"
    ]
   },
   "source": [
    "## 2. Better \"kolumn\" names\n",
    "<p>So we have a column for each month since January 2007 and a column for the worldwide search interest for each of the sisters each month. By the way, Google defines the values of search interest as:</p>\n",
    "<blockquote>\n",
    "  <p>Numbers represent search interest relative to the highest point on the chart for the given region and time. A value of 100 is the peak popularity for the term. A value of 50 means that the term is half as popular. A score of 0 means there was not enough data for this term.</p>\n",
    "</blockquote>\n",
    "<p>Okay, that's great Google, but you are not making this data easily analyzable for us. I see a few things. Let's do the column names first. A column named \"Kim Kardashian: (Worldwide)\" is not the most usable for coding purposes. Let's shorten those so we can access their values better. Might as well standardize all column formats, too. I like lowercase, short column names.</p>"
   ]
  },
  {
   "cell_type": "code",
   "execution_count": 5,
   "metadata": {
    "dc": {
     "key": "10"
    },
    "tags": [
     "sample_code"
    ]
   },
   "outputs": [
    {
     "data": {
      "text/html": [
       "<div>\n",
       "<style scoped>\n",
       "    .dataframe tbody tr th:only-of-type {\n",
       "        vertical-align: middle;\n",
       "    }\n",
       "\n",
       "    .dataframe tbody tr th {\n",
       "        vertical-align: top;\n",
       "    }\n",
       "\n",
       "    .dataframe thead th {\n",
       "        text-align: right;\n",
       "    }\n",
       "</style>\n",
       "<table border=\"1\" class=\"dataframe\">\n",
       "  <thead>\n",
       "    <tr style=\"text-align: right;\">\n",
       "      <th></th>\n",
       "      <th>month</th>\n",
       "      <th>kim</th>\n",
       "      <th>khloe</th>\n",
       "      <th>kourtney</th>\n",
       "      <th>kendall</th>\n",
       "      <th>kylie</th>\n",
       "    </tr>\n",
       "  </thead>\n",
       "  <tbody>\n",
       "    <tr>\n",
       "      <th>0</th>\n",
       "      <td>2007-01</td>\n",
       "      <td>2</td>\n",
       "      <td>&lt;1</td>\n",
       "      <td>&lt;1</td>\n",
       "      <td>&lt;1</td>\n",
       "      <td>2</td>\n",
       "    </tr>\n",
       "    <tr>\n",
       "      <th>1</th>\n",
       "      <td>2007-02</td>\n",
       "      <td>12</td>\n",
       "      <td>&lt;1</td>\n",
       "      <td>&lt;1</td>\n",
       "      <td>&lt;1</td>\n",
       "      <td>2</td>\n",
       "    </tr>\n",
       "    <tr>\n",
       "      <th>2</th>\n",
       "      <td>2007-03</td>\n",
       "      <td>9</td>\n",
       "      <td>&lt;1</td>\n",
       "      <td>&lt;1</td>\n",
       "      <td>&lt;1</td>\n",
       "      <td>1</td>\n",
       "    </tr>\n",
       "    <tr>\n",
       "      <th>3</th>\n",
       "      <td>2007-04</td>\n",
       "      <td>6</td>\n",
       "      <td>&lt;1</td>\n",
       "      <td>&lt;1</td>\n",
       "      <td>&lt;1</td>\n",
       "      <td>1</td>\n",
       "    </tr>\n",
       "    <tr>\n",
       "      <th>4</th>\n",
       "      <td>2007-05</td>\n",
       "      <td>6</td>\n",
       "      <td>&lt;1</td>\n",
       "      <td>&lt;1</td>\n",
       "      <td>&lt;1</td>\n",
       "      <td>2</td>\n",
       "    </tr>\n",
       "  </tbody>\n",
       "</table>\n",
       "</div>"
      ],
      "text/plain": [
       "     month  kim khloe kourtney kendall  kylie\n",
       "0  2007-01    2    <1       <1      <1      2\n",
       "1  2007-02   12    <1       <1      <1      2\n",
       "2  2007-03    9    <1       <1      <1      1\n",
       "3  2007-04    6    <1       <1      <1      1\n",
       "4  2007-05    6    <1       <1      <1      2"
      ]
     },
     "execution_count": 5,
     "metadata": {},
     "output_type": "execute_result"
    }
   ],
   "source": [
    "# Make column names easier to work with\n",
    "trends.columns = ['month', 'kim', 'khloe', 'kourtney', 'kendall', 'kylie']\n",
    "\n",
    "# Inspect data\n",
    "trends.head()"
   ]
  },
  {
   "cell_type": "markdown",
   "metadata": {
    "dc": {
     "key": "17"
    },
    "deletable": false,
    "editable": false,
    "run_control": {
     "frozen": true
    },
    "tags": [
     "context"
    ]
   },
   "source": [
    "## 3. Pesky data types\n",
    "<p>That's better. We don't need to scroll our eyes across the table to read the values anymore since it is much less wide. And seeing five columns that all start with the letter \"k\" ... the aesthetics ... we should call them \"kolumns\" now! (Bad joke.)</p>\n",
    "<p>The next thing I see that is going to be an issue is that \"&lt;\" sign. If <em>\"a score of 0 means there was not enough data for this term,\"</em> \"&lt;1\" must mean it is between 0 and 1 and Google does not want to give us the fraction from google.trends.com for whatever reason. That's fine, but this \"&lt;\" sign means we won't be able to analyze or visualize our data right away because those column values aren't going to be represented as numbers in our data structure. Let's confirm that by inspecting our data types.</p>"
   ]
  },
  {
   "cell_type": "code",
   "execution_count": 6,
   "metadata": {
    "dc": {
     "key": "17"
    },
    "tags": [
     "sample_code"
    ]
   },
   "outputs": [
    {
     "name": "stdout",
     "output_type": "stream",
     "text": [
      "<class 'pandas.core.frame.DataFrame'>\n",
      "RangeIndex: 147 entries, 0 to 146\n",
      "Data columns (total 6 columns):\n",
      "month       147 non-null object\n",
      "kim         147 non-null int64\n",
      "khloe       147 non-null object\n",
      "kourtney    147 non-null object\n",
      "kendall     147 non-null object\n",
      "kylie       147 non-null int64\n",
      "dtypes: int64(2), object(4)\n",
      "memory usage: 7.0+ KB\n"
     ]
    }
   ],
   "source": [
    "# Inspect data types\n",
    "trends.info()"
   ]
  },
  {
   "cell_type": "markdown",
   "metadata": {
    "dc": {
     "key": "24"
    },
    "deletable": false,
    "editable": false,
    "run_control": {
     "frozen": true
    },
    "tags": [
     "context"
    ]
   },
   "source": [
    "## 4. From object to integer\n",
    "<p>Yes, okay, the <code>khloe</code>, <code>kourtney</code>, and <code>kendall</code> columns aren't integers like the <code>kim</code> and <code>kylie</code> columns are. Again, because of the \"&lt;\" sign that indicates a search interest value between zero and one. Is this an early hint at the hierarchy of sister popularity? We'll see shortly. Before that, we'll need to remove that pesky \"&lt;\" sign. Then we can change the type of those columns to integer.</p>"
   ]
  },
  {
   "cell_type": "code",
   "execution_count": 7,
   "metadata": {
    "dc": {
     "key": "24"
    },
    "tags": [
     "sample_code"
    ]
   },
   "outputs": [
    {
     "name": "stdout",
     "output_type": "stream",
     "text": [
      "<class 'pandas.core.frame.DataFrame'>\n",
      "RangeIndex: 147 entries, 0 to 146\n",
      "Data columns (total 6 columns):\n",
      "month       147 non-null object\n",
      "kim         147 non-null int64\n",
      "khloe       147 non-null int64\n",
      "kourtney    147 non-null int64\n",
      "kendall     147 non-null int64\n",
      "kylie       147 non-null int64\n",
      "dtypes: int64(5), object(1)\n",
      "memory usage: 7.0+ KB\n"
     ]
    },
    {
     "data": {
      "text/html": [
       "<div>\n",
       "<style scoped>\n",
       "    .dataframe tbody tr th:only-of-type {\n",
       "        vertical-align: middle;\n",
       "    }\n",
       "\n",
       "    .dataframe tbody tr th {\n",
       "        vertical-align: top;\n",
       "    }\n",
       "\n",
       "    .dataframe thead th {\n",
       "        text-align: right;\n",
       "    }\n",
       "</style>\n",
       "<table border=\"1\" class=\"dataframe\">\n",
       "  <thead>\n",
       "    <tr style=\"text-align: right;\">\n",
       "      <th></th>\n",
       "      <th>month</th>\n",
       "      <th>kim</th>\n",
       "      <th>khloe</th>\n",
       "      <th>kourtney</th>\n",
       "      <th>kendall</th>\n",
       "      <th>kylie</th>\n",
       "    </tr>\n",
       "  </thead>\n",
       "  <tbody>\n",
       "    <tr>\n",
       "      <th>0</th>\n",
       "      <td>2007-01</td>\n",
       "      <td>2</td>\n",
       "      <td>1</td>\n",
       "      <td>1</td>\n",
       "      <td>1</td>\n",
       "      <td>2</td>\n",
       "    </tr>\n",
       "    <tr>\n",
       "      <th>1</th>\n",
       "      <td>2007-02</td>\n",
       "      <td>12</td>\n",
       "      <td>1</td>\n",
       "      <td>1</td>\n",
       "      <td>1</td>\n",
       "      <td>2</td>\n",
       "    </tr>\n",
       "    <tr>\n",
       "      <th>2</th>\n",
       "      <td>2007-03</td>\n",
       "      <td>9</td>\n",
       "      <td>1</td>\n",
       "      <td>1</td>\n",
       "      <td>1</td>\n",
       "      <td>1</td>\n",
       "    </tr>\n",
       "    <tr>\n",
       "      <th>3</th>\n",
       "      <td>2007-04</td>\n",
       "      <td>6</td>\n",
       "      <td>1</td>\n",
       "      <td>1</td>\n",
       "      <td>1</td>\n",
       "      <td>1</td>\n",
       "    </tr>\n",
       "    <tr>\n",
       "      <th>4</th>\n",
       "      <td>2007-05</td>\n",
       "      <td>6</td>\n",
       "      <td>1</td>\n",
       "      <td>1</td>\n",
       "      <td>1</td>\n",
       "      <td>2</td>\n",
       "    </tr>\n",
       "  </tbody>\n",
       "</table>\n",
       "</div>"
      ],
      "text/plain": [
       "     month  kim  khloe  kourtney  kendall  kylie\n",
       "0  2007-01    2      1         1        1      2\n",
       "1  2007-02   12      1         1        1      2\n",
       "2  2007-03    9      1         1        1      1\n",
       "3  2007-04    6      1         1        1      1\n",
       "4  2007-05    6      1         1        1      2"
      ]
     },
     "execution_count": 7,
     "metadata": {},
     "output_type": "execute_result"
    }
   ],
   "source": [
    "for column in trends.columns:\n",
    "    # Only modify columns that have the \"<\" sign\n",
    "    if \"<\" in trends[column].to_string(): \n",
    "        # Remove \"<\" and convert dtype to integer\n",
    "        trends[column] = trends[column].str.replace('<', '')\n",
    "        trends[column] = pd.to_numeric(trends[column])\n",
    "        \n",
    "# Inspect data types and data\n",
    "trends.info()\n",
    "trends.head()"
   ]
  },
  {
   "cell_type": "markdown",
   "metadata": {
    "dc": {
     "key": "31"
    },
    "deletable": false,
    "editable": false,
    "run_control": {
     "frozen": true
    },
    "tags": [
     "context"
    ]
   },
   "source": [
    "## 5. From object to datetime\n",
    "<p>Okay, great, no more \"&lt;\" signs. All the sister columns are of integer type.</p>\n",
    "<p>Now let's convert our <code>month</code> column from type object to datetime to make our date data more accessible.</p>"
   ]
  },
  {
   "cell_type": "code",
   "execution_count": 8,
   "metadata": {
    "dc": {
     "key": "31"
    },
    "tags": [
     "sample_code"
    ]
   },
   "outputs": [
    {
     "name": "stdout",
     "output_type": "stream",
     "text": [
      "<class 'pandas.core.frame.DataFrame'>\n",
      "RangeIndex: 147 entries, 0 to 146\n",
      "Data columns (total 6 columns):\n",
      "month       147 non-null datetime64[ns]\n",
      "kim         147 non-null int64\n",
      "khloe       147 non-null int64\n",
      "kourtney    147 non-null int64\n",
      "kendall     147 non-null int64\n",
      "kylie       147 non-null int64\n",
      "dtypes: datetime64[ns](1), int64(5)\n",
      "memory usage: 7.0 KB\n"
     ]
    },
    {
     "data": {
      "text/html": [
       "<div>\n",
       "<style scoped>\n",
       "    .dataframe tbody tr th:only-of-type {\n",
       "        vertical-align: middle;\n",
       "    }\n",
       "\n",
       "    .dataframe tbody tr th {\n",
       "        vertical-align: top;\n",
       "    }\n",
       "\n",
       "    .dataframe thead th {\n",
       "        text-align: right;\n",
       "    }\n",
       "</style>\n",
       "<table border=\"1\" class=\"dataframe\">\n",
       "  <thead>\n",
       "    <tr style=\"text-align: right;\">\n",
       "      <th></th>\n",
       "      <th>month</th>\n",
       "      <th>kim</th>\n",
       "      <th>khloe</th>\n",
       "      <th>kourtney</th>\n",
       "      <th>kendall</th>\n",
       "      <th>kylie</th>\n",
       "    </tr>\n",
       "  </thead>\n",
       "  <tbody>\n",
       "    <tr>\n",
       "      <th>0</th>\n",
       "      <td>2007-01-01</td>\n",
       "      <td>2</td>\n",
       "      <td>1</td>\n",
       "      <td>1</td>\n",
       "      <td>1</td>\n",
       "      <td>2</td>\n",
       "    </tr>\n",
       "    <tr>\n",
       "      <th>1</th>\n",
       "      <td>2007-02-01</td>\n",
       "      <td>12</td>\n",
       "      <td>1</td>\n",
       "      <td>1</td>\n",
       "      <td>1</td>\n",
       "      <td>2</td>\n",
       "    </tr>\n",
       "    <tr>\n",
       "      <th>2</th>\n",
       "      <td>2007-03-01</td>\n",
       "      <td>9</td>\n",
       "      <td>1</td>\n",
       "      <td>1</td>\n",
       "      <td>1</td>\n",
       "      <td>1</td>\n",
       "    </tr>\n",
       "    <tr>\n",
       "      <th>3</th>\n",
       "      <td>2007-04-01</td>\n",
       "      <td>6</td>\n",
       "      <td>1</td>\n",
       "      <td>1</td>\n",
       "      <td>1</td>\n",
       "      <td>1</td>\n",
       "    </tr>\n",
       "    <tr>\n",
       "      <th>4</th>\n",
       "      <td>2007-05-01</td>\n",
       "      <td>6</td>\n",
       "      <td>1</td>\n",
       "      <td>1</td>\n",
       "      <td>1</td>\n",
       "      <td>2</td>\n",
       "    </tr>\n",
       "  </tbody>\n",
       "</table>\n",
       "</div>"
      ],
      "text/plain": [
       "       month  kim  khloe  kourtney  kendall  kylie\n",
       "0 2007-01-01    2      1         1        1      2\n",
       "1 2007-02-01   12      1         1        1      2\n",
       "2 2007-03-01    9      1         1        1      1\n",
       "3 2007-04-01    6      1         1        1      1\n",
       "4 2007-05-01    6      1         1        1      2"
      ]
     },
     "execution_count": 8,
     "metadata": {},
     "output_type": "execute_result"
    }
   ],
   "source": [
    "# Convert month to type datetime\n",
    "trends['month'] = pd.to_datetime(trends['month'])\n",
    "\n",
    "# Inspect data types and data\n",
    "trends.info()\n",
    "trends.head()"
   ]
  },
  {
   "cell_type": "markdown",
   "metadata": {
    "dc": {
     "key": "38"
    },
    "deletable": false,
    "editable": false,
    "run_control": {
     "frozen": true
    },
    "tags": [
     "context"
    ]
   },
   "source": [
    "## 6. Set month as index\n",
    "<p>And finally, let's set the <code>month</code> column as our index to wrap our data cleaning. Having <code>month</code> as index rather than the zero-based row numbers will allow us to write shorter lines of code to create plots, where <code>month</code> will represent our x-axis.</p>"
   ]
  },
  {
   "cell_type": "code",
   "execution_count": 9,
   "metadata": {
    "dc": {
     "key": "38"
    },
    "tags": [
     "sample_code"
    ]
   },
   "outputs": [
    {
     "data": {
      "text/html": [
       "<div>\n",
       "<style scoped>\n",
       "    .dataframe tbody tr th:only-of-type {\n",
       "        vertical-align: middle;\n",
       "    }\n",
       "\n",
       "    .dataframe tbody tr th {\n",
       "        vertical-align: top;\n",
       "    }\n",
       "\n",
       "    .dataframe thead th {\n",
       "        text-align: right;\n",
       "    }\n",
       "</style>\n",
       "<table border=\"1\" class=\"dataframe\">\n",
       "  <thead>\n",
       "    <tr style=\"text-align: right;\">\n",
       "      <th></th>\n",
       "      <th>kim</th>\n",
       "      <th>khloe</th>\n",
       "      <th>kourtney</th>\n",
       "      <th>kendall</th>\n",
       "      <th>kylie</th>\n",
       "    </tr>\n",
       "    <tr>\n",
       "      <th>month</th>\n",
       "      <th></th>\n",
       "      <th></th>\n",
       "      <th></th>\n",
       "      <th></th>\n",
       "      <th></th>\n",
       "    </tr>\n",
       "  </thead>\n",
       "  <tbody>\n",
       "    <tr>\n",
       "      <th>2007-01-01</th>\n",
       "      <td>2</td>\n",
       "      <td>1</td>\n",
       "      <td>1</td>\n",
       "      <td>1</td>\n",
       "      <td>2</td>\n",
       "    </tr>\n",
       "    <tr>\n",
       "      <th>2007-02-01</th>\n",
       "      <td>12</td>\n",
       "      <td>1</td>\n",
       "      <td>1</td>\n",
       "      <td>1</td>\n",
       "      <td>2</td>\n",
       "    </tr>\n",
       "    <tr>\n",
       "      <th>2007-03-01</th>\n",
       "      <td>9</td>\n",
       "      <td>1</td>\n",
       "      <td>1</td>\n",
       "      <td>1</td>\n",
       "      <td>1</td>\n",
       "    </tr>\n",
       "    <tr>\n",
       "      <th>2007-04-01</th>\n",
       "      <td>6</td>\n",
       "      <td>1</td>\n",
       "      <td>1</td>\n",
       "      <td>1</td>\n",
       "      <td>1</td>\n",
       "    </tr>\n",
       "    <tr>\n",
       "      <th>2007-05-01</th>\n",
       "      <td>6</td>\n",
       "      <td>1</td>\n",
       "      <td>1</td>\n",
       "      <td>1</td>\n",
       "      <td>2</td>\n",
       "    </tr>\n",
       "  </tbody>\n",
       "</table>\n",
       "</div>"
      ],
      "text/plain": [
       "            kim  khloe  kourtney  kendall  kylie\n",
       "month                                           \n",
       "2007-01-01    2      1         1        1      2\n",
       "2007-02-01   12      1         1        1      2\n",
       "2007-03-01    9      1         1        1      1\n",
       "2007-04-01    6      1         1        1      1\n",
       "2007-05-01    6      1         1        1      2"
      ]
     },
     "execution_count": 9,
     "metadata": {},
     "output_type": "execute_result"
    }
   ],
   "source": [
    "# Set month as DataFrame index\n",
    "trends = trends.set_index('month')\n",
    "\n",
    "# Inspect the data\n",
    "trends.head()"
   ]
  },
  {
   "cell_type": "markdown",
   "metadata": {
    "dc": {
     "key": "45"
    },
    "deletable": false,
    "editable": false,
    "run_control": {
     "frozen": true
    },
    "tags": [
     "context"
    ]
   },
   "source": [
    "## 7. The early Kim hype\n",
    "<p>Okay! So our data is ready to plot. Because we cleaned our data, we only need one line of code (and just <em>thirteen</em> characters!) to remake the Google Trends chart, plus another line to make the plot show up in our notebook.</p>"
   ]
  },
  {
   "cell_type": "code",
   "execution_count": 10,
   "metadata": {
    "dc": {
     "key": "45"
    },
    "tags": [
     "sample_code"
    ]
   },
   "outputs": [
    {
     "data": {
      "text/plain": [
       "<matplotlib.axes._subplots.AxesSubplot at 0x24963706fd0>"
      ]
     },
     "execution_count": 10,
     "metadata": {},
     "output_type": "execute_result"
    },
    {
     "data": {
      "image/png": "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\n",
      "text/plain": [
       "<Figure size 432x288 with 1 Axes>"
      ]
     },
     "metadata": {
      "needs_background": "light"
     },
     "output_type": "display_data"
    }
   ],
   "source": [
    "# Plot search interest vs. month\n",
    "%matplotlib inline\n",
    "trends.plot()"
   ]
  },
  {
   "cell_type": "markdown",
   "metadata": {
    "dc": {
     "key": "52"
    },
    "deletable": false,
    "editable": false,
    "run_control": {
     "frozen": true
    },
    "tags": [
     "context"
    ]
   },
   "source": [
    "## 8. Kylie's rise\n",
    "<p>Oh my! There is so much to make sense of here. Kim's <a href=\"https://en.wikipedia.org/wiki/Kim_Kardashian#2007%E2%80%932009:_Breakthrough_with_reality_television\">sharp rise in 2007</a>, with the beginning of <a href=\"https://en.wikipedia.org/wiki/Keeping_Up_with_the_Kardashians\"><em>Keeping Up with the Kardashians</em></a>, among other things. There was no significant search interest for the other four sisters until mid-2009 when Kourtney and Khloé launched the reality television series, <a href=\"https://en.wikipedia.org/wiki/Kourtney_and_Kim_Take_Miami\"><em>Kourtney and Khloé Take Miami</em></a>. Then there was Kim's rise from famous to <a href=\"https://trends.google.com/trends/explore?date=all&geo=US&q=%2Fm%2F0261x8t,%2Fm%2F0d05l6\">literally more famous than God</a> in 2011. This Cosmopolitan <a href=\"https://www.cosmopolitan.com/uk/entertainment/a12464842/who-is-kim-kardashian/\">article</a> covers the timeline that includes the launch of music videos, fragrances,  iPhone and Android games, another television series, joining Instagram, and more. Then there was Kim's ridiculous spike in December 2014: posing naked on the cover of Paper Magazine in a bid to break the internet will do that for you.</p>\n",
    "<p>A curious thing starts to happen after that bid as well. Let's zoom in...</p>"
   ]
  },
  {
   "cell_type": "code",
   "execution_count": 11,
   "metadata": {
    "dc": {
     "key": "52"
    },
    "tags": [
     "sample_code"
    ]
   },
   "outputs": [
    {
     "data": {
      "text/plain": [
       "<matplotlib.axes._subplots.AxesSubplot at 0x2496325c438>"
      ]
     },
     "execution_count": 11,
     "metadata": {},
     "output_type": "execute_result"
    },
    {
     "data": {
      "image/png": "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\n",
      "text/plain": [
       "<Figure size 432x288 with 1 Axes>"
      ]
     },
     "metadata": {
      "needs_background": "light"
     },
     "output_type": "display_data"
    }
   ],
   "source": [
    "# Zoom in from January 2014\n",
    "trends.loc['2014-01':'2019-04'].plot()"
   ]
  },
  {
   "cell_type": "markdown",
   "metadata": {
    "dc": {
     "key": "59"
    },
    "deletable": false,
    "editable": false,
    "run_control": {
     "frozen": true
    },
    "tags": [
     "context"
    ]
   },
   "source": [
    "## 9. Smooth out the fluctuations with rolling means\n",
    "<p>It looks like my suspicion may be true: Kim is not always the most searched Kardashian or Jenner sister. Since late-2016, at various months, Kylie overtakes Kim. Two big spikes where she smashed Kim's search interest: in September 2017 when it was reported that Kylie was expecting her first child with rapper <a href=\"https://en.wikipedia.org/wiki/Travis_Scott\">Travis Scott</a> and in February 2018 when she gave birth to her daughter, Stormi Webster. The continued success of Kylie Cosmetics has kept her in the news, not to mention making her the \"The Youngest Self-Made Billionaire Ever\" <a href=\"https://www.forbes.com/sites/natalierobehmed/2019/03/05/at-21-kylie-jenner-becomes-the-youngest-self-made-billionaire-ever/#57e612c02794\">according to Forbes</a>.</p>\n",
    "<p>These fluctuations are descriptive but do not really help us answer our question: is Kim even the most famous sister anymore? We can use rolling means to smooth out short-term fluctuations in time series data and highlight long-term trends. Let's make the window twelve months a.k.a. one year.</p>"
   ]
  },
  {
   "cell_type": "code",
   "execution_count": 15,
   "metadata": {
    "dc": {
     "key": "59"
    },
    "tags": [
     "sample_code"
    ]
   },
   "outputs": [
    {
     "data": {
      "text/plain": [
       "<matplotlib.axes._subplots.AxesSubplot at 0x249638cfd68>"
      ]
     },
     "execution_count": 15,
     "metadata": {},
     "output_type": "execute_result"
    },
    {
     "data": {
      "image/png": "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\n",
      "text/plain": [
       "<Figure size 432x288 with 1 Axes>"
      ]
     },
     "metadata": {
      "needs_background": "light"
     },
     "output_type": "display_data"
    }
   ],
   "source": [
    "# Smooth the data with rolling means\n",
    "trends.rolling(window = 12).mean().plot()"
   ]
  },
  {
   "cell_type": "markdown",
   "metadata": {
    "dc": {
     "key": "66"
    },
    "deletable": false,
    "editable": false,
    "run_control": {
     "frozen": true
    },
    "tags": [
     "context"
    ]
   },
   "source": [
    "## 10. Who's more famous? The Kardashians or the Jenners?\n",
    "<p>Whoa, okay! So by this metric, Kim is still the most famous sister despite Kylie being close and nearly taking her crown. Honestly, the biggest takeaway from this whole exercise might be Kendall not showing up that much. It makes sense, though, despite her <a href=\"http://time.com/money/5033357/kendall-jenner-makes-more-than-gisele-bundchen/\">wildly successful modeling career</a>. Some have called her \"<a href=\"https://www.nickiswift.com/5681/kendall-jenner-normal-one-family/\">the only normal one in her family</a>\" as she tends to shy away from the more dramatic and controversial parts of the media limelight that generate oh so many clicks.</p>\n",
    "<p>Let's end this analysis with one last plot. In it, we will plot (pun!) the Kardashian sisters against the Jenner sisters to see which family line is more popular now. We will use average search interest to make things fair, i.e., total search interest divided by the number of sisters in the family line.</p>\n",
    "<p><strong>The answer?</strong> Since 2015, it has been a toss-up. And in the future? With this family and their penchant for big events, who knows?</p>"
   ]
  },
  {
   "cell_type": "code",
   "execution_count": 17,
   "metadata": {
    "dc": {
     "key": "66"
    },
    "tags": [
     "sample_code"
    ]
   },
   "outputs": [
    {
     "data": {
      "text/plain": [
       "<matplotlib.axes._subplots.AxesSubplot at 0x24963dd00b8>"
      ]
     },
     "execution_count": 17,
     "metadata": {},
     "output_type": "execute_result"
    },
    {
     "data": {
      "image/png": "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\n",
      "text/plain": [
       "<Figure size 432x288 with 1 Axes>"
      ]
     },
     "metadata": {
      "needs_background": "light"
     },
     "output_type": "display_data"
    }
   ],
   "source": [
    "# Average search interest for each family line\n",
    "trends['kardashian'] = sum(trends.kim + trends.khloe + trends.kourtney) / 3\n",
    "trends['jenner'] = sum(trends.kendall + trends. kylie) / 2\n",
    "\n",
    "# Plot average family line search interest vs. month\n",
    "trends[['kardashian', 'jenner']].plot()"
   ]
  }
 ],
 "metadata": {
  "kernelspec": {
   "display_name": "Python 3",
   "language": "python",
   "name": "python3"
  },
  "language_info": {
   "codemirror_mode": {
    "name": "ipython",
    "version": 3
   },
   "file_extension": ".py",
   "mimetype": "text/x-python",
   "name": "python",
   "nbconvert_exporter": "python",
   "pygments_lexer": "ipython3",
   "version": "3.7.3"
  }
 },
 "nbformat": 4,
 "nbformat_minor": 2
}
