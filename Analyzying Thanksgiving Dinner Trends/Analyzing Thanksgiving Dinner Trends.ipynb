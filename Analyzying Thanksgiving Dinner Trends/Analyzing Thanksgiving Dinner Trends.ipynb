{
 "cells": [
  {
   "cell_type": "markdown",
   "metadata": {},
   "source": [
    "#### Reading in and summarizing the data"
   ]
  },
  {
   "cell_type": "code",
   "execution_count": 85,
   "metadata": {},
   "outputs": [
    {
     "data": {
      "text/html": [
       "<div>\n",
       "<style scoped>\n",
       "    .dataframe tbody tr th:only-of-type {\n",
       "        vertical-align: middle;\n",
       "    }\n",
       "\n",
       "    .dataframe tbody tr th {\n",
       "        vertical-align: top;\n",
       "    }\n",
       "\n",
       "    .dataframe thead th {\n",
       "        text-align: right;\n",
       "    }\n",
       "</style>\n",
       "<table border=\"1\" class=\"dataframe\">\n",
       "  <thead>\n",
       "    <tr style=\"text-align: right;\">\n",
       "      <th></th>\n",
       "      <th>RespondentID</th>\n",
       "      <th>Do you celebrate Thanksgiving?</th>\n",
       "      <th>What is typically the main dish at your Thanksgiving dinner?</th>\n",
       "      <th>What is typically the main dish at your Thanksgiving dinner? - Other (please specify)</th>\n",
       "      <th>How is the main dish typically cooked?</th>\n",
       "      <th>How is the main dish typically cooked? - Other (please specify)</th>\n",
       "      <th>What kind of stuffing/dressing do you typically have?</th>\n",
       "      <th>What kind of stuffing/dressing do you typically have? - Other (please specify)</th>\n",
       "      <th>What type of cranberry saucedo you typically have?</th>\n",
       "      <th>What type of cranberry saucedo you typically have? - Other (please specify)</th>\n",
       "      <th>...</th>\n",
       "      <th>Have you ever tried to meet up with hometown friends on Thanksgiving night?</th>\n",
       "      <th>Have you ever attended a \"Friendsgiving?\"</th>\n",
       "      <th>Will you shop any Black Friday sales on Thanksgiving Day?</th>\n",
       "      <th>Do you work in retail?</th>\n",
       "      <th>Will you employer make you work on Black Friday?</th>\n",
       "      <th>How would you describe where you live?</th>\n",
       "      <th>Age</th>\n",
       "      <th>What is your gender?</th>\n",
       "      <th>How much total combined money did all members of your HOUSEHOLD earn last year?</th>\n",
       "      <th>US Region</th>\n",
       "    </tr>\n",
       "  </thead>\n",
       "  <tbody>\n",
       "    <tr>\n",
       "      <th>0</th>\n",
       "      <td>4337954960</td>\n",
       "      <td>Yes</td>\n",
       "      <td>Turkey</td>\n",
       "      <td>NaN</td>\n",
       "      <td>Baked</td>\n",
       "      <td>NaN</td>\n",
       "      <td>Bread-based</td>\n",
       "      <td>NaN</td>\n",
       "      <td>None</td>\n",
       "      <td>NaN</td>\n",
       "      <td>...</td>\n",
       "      <td>Yes</td>\n",
       "      <td>No</td>\n",
       "      <td>No</td>\n",
       "      <td>No</td>\n",
       "      <td>NaN</td>\n",
       "      <td>Suburban</td>\n",
       "      <td>18 - 29</td>\n",
       "      <td>Male</td>\n",
       "      <td>$75,000 to $99,999</td>\n",
       "      <td>Middle Atlantic</td>\n",
       "    </tr>\n",
       "    <tr>\n",
       "      <th>1</th>\n",
       "      <td>4337951949</td>\n",
       "      <td>Yes</td>\n",
       "      <td>Turkey</td>\n",
       "      <td>NaN</td>\n",
       "      <td>Baked</td>\n",
       "      <td>NaN</td>\n",
       "      <td>Bread-based</td>\n",
       "      <td>NaN</td>\n",
       "      <td>Other (please specify)</td>\n",
       "      <td>Homemade cranberry gelatin ring</td>\n",
       "      <td>...</td>\n",
       "      <td>No</td>\n",
       "      <td>No</td>\n",
       "      <td>Yes</td>\n",
       "      <td>No</td>\n",
       "      <td>NaN</td>\n",
       "      <td>Rural</td>\n",
       "      <td>18 - 29</td>\n",
       "      <td>Female</td>\n",
       "      <td>$50,000 to $74,999</td>\n",
       "      <td>East South Central</td>\n",
       "    </tr>\n",
       "    <tr>\n",
       "      <th>2</th>\n",
       "      <td>4337935621</td>\n",
       "      <td>Yes</td>\n",
       "      <td>Turkey</td>\n",
       "      <td>NaN</td>\n",
       "      <td>Roasted</td>\n",
       "      <td>NaN</td>\n",
       "      <td>Rice-based</td>\n",
       "      <td>NaN</td>\n",
       "      <td>Homemade</td>\n",
       "      <td>NaN</td>\n",
       "      <td>...</td>\n",
       "      <td>Yes</td>\n",
       "      <td>Yes</td>\n",
       "      <td>Yes</td>\n",
       "      <td>No</td>\n",
       "      <td>NaN</td>\n",
       "      <td>Suburban</td>\n",
       "      <td>18 - 29</td>\n",
       "      <td>Male</td>\n",
       "      <td>$0 to $9,999</td>\n",
       "      <td>Mountain</td>\n",
       "    </tr>\n",
       "    <tr>\n",
       "      <th>3</th>\n",
       "      <td>4337933040</td>\n",
       "      <td>Yes</td>\n",
       "      <td>Turkey</td>\n",
       "      <td>NaN</td>\n",
       "      <td>Baked</td>\n",
       "      <td>NaN</td>\n",
       "      <td>Bread-based</td>\n",
       "      <td>NaN</td>\n",
       "      <td>Homemade</td>\n",
       "      <td>NaN</td>\n",
       "      <td>...</td>\n",
       "      <td>Yes</td>\n",
       "      <td>No</td>\n",
       "      <td>No</td>\n",
       "      <td>No</td>\n",
       "      <td>NaN</td>\n",
       "      <td>Urban</td>\n",
       "      <td>30 - 44</td>\n",
       "      <td>Male</td>\n",
       "      <td>$200,000 and up</td>\n",
       "      <td>Pacific</td>\n",
       "    </tr>\n",
       "    <tr>\n",
       "      <th>4</th>\n",
       "      <td>4337931983</td>\n",
       "      <td>Yes</td>\n",
       "      <td>Tofurkey</td>\n",
       "      <td>NaN</td>\n",
       "      <td>Baked</td>\n",
       "      <td>NaN</td>\n",
       "      <td>Bread-based</td>\n",
       "      <td>NaN</td>\n",
       "      <td>Canned</td>\n",
       "      <td>NaN</td>\n",
       "      <td>...</td>\n",
       "      <td>Yes</td>\n",
       "      <td>No</td>\n",
       "      <td>No</td>\n",
       "      <td>No</td>\n",
       "      <td>NaN</td>\n",
       "      <td>Urban</td>\n",
       "      <td>30 - 44</td>\n",
       "      <td>Male</td>\n",
       "      <td>$100,000 to $124,999</td>\n",
       "      <td>Pacific</td>\n",
       "    </tr>\n",
       "  </tbody>\n",
       "</table>\n",
       "<p>5 rows × 65 columns</p>\n",
       "</div>"
      ],
      "text/plain": [
       "   RespondentID Do you celebrate Thanksgiving?  \\\n",
       "0    4337954960                            Yes   \n",
       "1    4337951949                            Yes   \n",
       "2    4337935621                            Yes   \n",
       "3    4337933040                            Yes   \n",
       "4    4337931983                            Yes   \n",
       "\n",
       "  What is typically the main dish at your Thanksgiving dinner?  \\\n",
       "0                                             Turkey             \n",
       "1                                             Turkey             \n",
       "2                                             Turkey             \n",
       "3                                             Turkey             \n",
       "4                                           Tofurkey             \n",
       "\n",
       "  What is typically the main dish at your Thanksgiving dinner? - Other (please specify)  \\\n",
       "0                                                NaN                                      \n",
       "1                                                NaN                                      \n",
       "2                                                NaN                                      \n",
       "3                                                NaN                                      \n",
       "4                                                NaN                                      \n",
       "\n",
       "  How is the main dish typically cooked?  \\\n",
       "0                                  Baked   \n",
       "1                                  Baked   \n",
       "2                                Roasted   \n",
       "3                                  Baked   \n",
       "4                                  Baked   \n",
       "\n",
       "  How is the main dish typically cooked? - Other (please specify)  \\\n",
       "0                                                NaN                \n",
       "1                                                NaN                \n",
       "2                                                NaN                \n",
       "3                                                NaN                \n",
       "4                                                NaN                \n",
       "\n",
       "  What kind of stuffing/dressing do you typically have?  \\\n",
       "0                                        Bread-based      \n",
       "1                                        Bread-based      \n",
       "2                                         Rice-based      \n",
       "3                                        Bread-based      \n",
       "4                                        Bread-based      \n",
       "\n",
       "  What kind of stuffing/dressing do you typically have? - Other (please specify)  \\\n",
       "0                                                NaN                               \n",
       "1                                                NaN                               \n",
       "2                                                NaN                               \n",
       "3                                                NaN                               \n",
       "4                                                NaN                               \n",
       "\n",
       "  What type of cranberry saucedo you typically have?  \\\n",
       "0                                               None   \n",
       "1                             Other (please specify)   \n",
       "2                                           Homemade   \n",
       "3                                           Homemade   \n",
       "4                                             Canned   \n",
       "\n",
       "  What type of cranberry saucedo you typically have? - Other (please specify)  \\\n",
       "0                                                NaN                            \n",
       "1                    Homemade cranberry gelatin ring                            \n",
       "2                                                NaN                            \n",
       "3                                                NaN                            \n",
       "4                                                NaN                            \n",
       "\n",
       "   ...  \\\n",
       "0  ...   \n",
       "1  ...   \n",
       "2  ...   \n",
       "3  ...   \n",
       "4  ...   \n",
       "\n",
       "  Have you ever tried to meet up with hometown friends on Thanksgiving night?  \\\n",
       "0                                                Yes                            \n",
       "1                                                 No                            \n",
       "2                                                Yes                            \n",
       "3                                                Yes                            \n",
       "4                                                Yes                            \n",
       "\n",
       "  Have you ever attended a \"Friendsgiving?\"  \\\n",
       "0                                        No   \n",
       "1                                        No   \n",
       "2                                       Yes   \n",
       "3                                        No   \n",
       "4                                        No   \n",
       "\n",
       "  Will you shop any Black Friday sales on Thanksgiving Day?  \\\n",
       "0                                                 No          \n",
       "1                                                Yes          \n",
       "2                                                Yes          \n",
       "3                                                 No          \n",
       "4                                                 No          \n",
       "\n",
       "  Do you work in retail? Will you employer make you work on Black Friday?  \\\n",
       "0                     No                                              NaN   \n",
       "1                     No                                              NaN   \n",
       "2                     No                                              NaN   \n",
       "3                     No                                              NaN   \n",
       "4                     No                                              NaN   \n",
       "\n",
       "  How would you describe where you live?      Age What is your gender?  \\\n",
       "0                               Suburban  18 - 29                 Male   \n",
       "1                                  Rural  18 - 29               Female   \n",
       "2                               Suburban  18 - 29                 Male   \n",
       "3                                  Urban  30 - 44                 Male   \n",
       "4                                  Urban  30 - 44                 Male   \n",
       "\n",
       "  How much total combined money did all members of your HOUSEHOLD earn last year?  \\\n",
       "0                                 $75,000 to $99,999                                \n",
       "1                                 $50,000 to $74,999                                \n",
       "2                                       $0 to $9,999                                \n",
       "3                                    $200,000 and up                                \n",
       "4                               $100,000 to $124,999                                \n",
       "\n",
       "            US Region  \n",
       "0     Middle Atlantic  \n",
       "1  East South Central  \n",
       "2            Mountain  \n",
       "3             Pacific  \n",
       "4             Pacific  \n",
       "\n",
       "[5 rows x 65 columns]"
      ]
     },
     "execution_count": 85,
     "metadata": {},
     "output_type": "execute_result"
    }
   ],
   "source": [
    "import pandas as pd\n",
    "data = pd.read_csv('thanksgiving-2015-poll-data.csv', encoding = 'Latin-1')\n",
    "data.head()"
   ]
  },
  {
   "cell_type": "code",
   "execution_count": 86,
   "metadata": {},
   "outputs": [
    {
     "data": {
      "text/plain": [
       "array(['Yes', 'No'], dtype=object)"
      ]
     },
     "execution_count": 86,
     "metadata": {},
     "output_type": "execute_result"
    }
   ],
   "source": [
    "data['Do you celebrate Thanksgiving?'].unique()"
   ]
  },
  {
   "cell_type": "code",
   "execution_count": 87,
   "metadata": {},
   "outputs": [
    {
     "data": {
      "text/plain": [
       "Index(['Which of these desserts do you typically have at Thanksgiving dinner? Please select all that apply.   - Other (please specify).1',\n",
       "       'Do you typically pray before or after the Thanksgiving meal?',\n",
       "       'How far will you travel for Thanksgiving?',\n",
       "       'Will you watch any of the following programs on Thanksgiving? Please select all that apply. - Macy's Parade',\n",
       "       'What's the age cutoff at your \"kids' table\" at Thanksgiving?',\n",
       "       'Have you ever tried to meet up with hometown friends on Thanksgiving night?',\n",
       "       'Have you ever attended a \"Friendsgiving?\"',\n",
       "       'Will you shop any Black Friday sales on Thanksgiving Day?',\n",
       "       'Do you work in retail?',\n",
       "       'Will you employer make you work on Black Friday?',\n",
       "       'How would you describe where you live?', 'Age', 'What is your gender?',\n",
       "       'How much total combined money did all members of your HOUSEHOLD earn last year?',\n",
       "       'US Region'],\n",
       "      dtype='object')"
      ]
     },
     "execution_count": 87,
     "metadata": {},
     "output_type": "execute_result"
    }
   ],
   "source": [
    "data.columns[50:]"
   ]
  },
  {
   "cell_type": "markdown",
   "metadata": {},
   "source": [
    "#### Applying functions to Series in Pandas"
   ]
  },
  {
   "cell_type": "code",
   "execution_count": 88,
   "metadata": {},
   "outputs": [
    {
     "data": {
      "text/plain": [
       "Female    544\n",
       "Male      481\n",
       "NaN        33\n",
       "Name: What is your gender?, dtype: int64"
      ]
     },
     "execution_count": 88,
     "metadata": {},
     "output_type": "execute_result"
    }
   ],
   "source": [
    "data['What is your gender?'].value_counts(dropna=False)"
   ]
  },
  {
   "cell_type": "code",
   "execution_count": 89,
   "metadata": {},
   "outputs": [],
   "source": [
    "import math\n",
    "\n",
    "def gender_code(gender_string):\n",
    "    if isinstance(gender_string, float) and math.isnan(gender_string):\n",
    "        return gender_string\n",
    "    return int(gender_string == 'Female')"
   ]
  },
  {
   "cell_type": "code",
   "execution_count": 90,
   "metadata": {
    "scrolled": true
   },
   "outputs": [
    {
     "data": {
      "text/plain": [
       "1.0    544\n",
       "0.0    481\n",
       "NaN     33\n",
       "Name: gender, dtype: int64"
      ]
     },
     "execution_count": 90,
     "metadata": {},
     "output_type": "execute_result"
    }
   ],
   "source": [
    "data['gender'] = data['What is your gender?'].apply(gender_code)\n",
    "data['gender'].value_counts(dropna=False)"
   ]
  },
  {
   "cell_type": "markdown",
   "metadata": {},
   "source": [
    "#### Using the apply method to clean up income"
   ]
  },
  {
   "cell_type": "code",
   "execution_count": 91,
   "metadata": {},
   "outputs": [
    {
     "data": {
      "text/plain": [
       "RespondentID                                                                             object\n",
       "Do you celebrate Thanksgiving?                                                           object\n",
       "What is typically the main dish at your Thanksgiving dinner?                             object\n",
       "What is typically the main dish at your Thanksgiving dinner? - Other (please specify)    object\n",
       "How is the main dish typically cooked?                                                   object\n",
       "dtype: object"
      ]
     },
     "execution_count": 91,
     "metadata": {},
     "output_type": "execute_result"
    }
   ],
   "source": [
    "data.apply(lambda x: x.dtype).head()"
   ]
  },
  {
   "cell_type": "code",
   "execution_count": 92,
   "metadata": {},
   "outputs": [
    {
     "data": {
      "text/plain": [
       "$25,000 to $49,999      180\n",
       "Prefer not to answer    136\n",
       "$50,000 to $74,999      135\n",
       "$75,000 to $99,999      133\n",
       "$100,000 to $124,999    111\n",
       "$200,000 and up          80\n",
       "$10,000 to $24,999       68\n",
       "$0 to $9,999             66\n",
       "$125,000 to $149,999     49\n",
       "$150,000 to $174,999     40\n",
       "NaN                      33\n",
       "$175,000 to $199,999     27\n",
       "Name: How much total combined money did all members of your HOUSEHOLD earn last year?, dtype: int64"
      ]
     },
     "execution_count": 92,
     "metadata": {},
     "output_type": "execute_result"
    }
   ],
   "source": [
    "data[\"How much total combined money did all members of your HOUSEHOLD earn last year?\"].value_counts(dropna=False)"
   ]
  },
  {
   "cell_type": "code",
   "execution_count": 93,
   "metadata": {},
   "outputs": [],
   "source": [
    "import numpy as np\n",
    "def clean_income(value):\n",
    "    if value == \"$200,000 and up\":\n",
    "        return 200000\n",
    "    elif value == \"Prefer not to answer\":\n",
    "        return np.nan\n",
    "    elif isinstance(value, float) and math.isnan(value):\n",
    "        return np.nan\n",
    "    value = value.replace(\",\", \"\").replace(\"$\", \"\")\n",
    "\n",
    "    income_high, income_low = value.split(\" to \")\n",
    "    return (int(income_high) + int(income_low)) / 2"
   ]
  },
  {
   "cell_type": "code",
   "execution_count": 94,
   "metadata": {},
   "outputs": [
    {
     "data": {
      "text/plain": [
       "0     87499.5\n",
       "1     62499.5\n",
       "2      4999.5\n",
       "3    200000.0\n",
       "4    112499.5\n",
       "Name: income, dtype: float64"
      ]
     },
     "execution_count": 94,
     "metadata": {},
     "output_type": "execute_result"
    }
   ],
   "source": [
    "data[\"income\"] = data[\"How much total combined money did all members of your HOUSEHOLD earn last year?\"].apply(clean_income)\n",
    "data[\"income\"].head()"
   ]
  },
  {
   "cell_type": "markdown",
   "metadata": {},
   "source": [
    "#### Grouping data with pandas"
   ]
  },
  {
   "cell_type": "code",
   "execution_count": 95,
   "metadata": {},
   "outputs": [
    {
     "data": {
      "text/plain": [
       "Canned                    502\n",
       "Homemade                  301\n",
       "None                      146\n",
       "Other (please specify)     25\n",
       "Name: What type of cranberry saucedo you typically have?, dtype: int64"
      ]
     },
     "execution_count": 95,
     "metadata": {},
     "output_type": "execute_result"
    }
   ],
   "source": [
    "data[\"What type of cranberry saucedo you typically have?\"].value_counts()"
   ]
  },
  {
   "cell_type": "code",
   "execution_count": 96,
   "metadata": {},
   "outputs": [],
   "source": [
    "homemade = data[data[\"What type of cranberry saucedo you typically have?\"] == \"Homemade\"]\n",
    "canned = data[data[\"What type of cranberry saucedo you typically have?\"] == \"Canned\"]"
   ]
  },
  {
   "cell_type": "code",
   "execution_count": 97,
   "metadata": {},
   "outputs": [
    {
     "name": "stdout",
     "output_type": "stream",
     "text": [
      "94878.1072874494\n",
      "83823.40340909091\n"
     ]
    }
   ],
   "source": [
    "print(homemade[\"income\"].mean())\n",
    "print(canned[\"income\"].mean())"
   ]
  },
  {
   "cell_type": "code",
   "execution_count": 98,
   "metadata": {},
   "outputs": [
    {
     "data": {
      "text/plain": [
       "<pandas.core.groupby.generic.DataFrameGroupBy object at 0x00000236FC7B19B0>"
      ]
     },
     "execution_count": 98,
     "metadata": {},
     "output_type": "execute_result"
    }
   ],
   "source": [
    "grouped = data.groupby(\"What type of cranberry saucedo you typically have?\")\n",
    "grouped"
   ]
  },
  {
   "cell_type": "code",
   "execution_count": 99,
   "metadata": {},
   "outputs": [
    {
     "data": {
      "text/plain": [
       "{'Canned': Int64Index([   4,    6,    8,   11,   12,   15,   18,   19,   26,   27,\n",
       "             ...\n",
       "             1040, 1041, 1042, 1044, 1045, 1046, 1047, 1051, 1054, 1057],\n",
       "            dtype='int64', length=502),\n",
       " 'Homemade': Int64Index([   2,    3,    5,    7,   13,   14,   16,   20,   21,   23,\n",
       "             ...\n",
       "             1016, 1017, 1025, 1027, 1030, 1034, 1048, 1049, 1053, 1056],\n",
       "            dtype='int64', length=301),\n",
       " 'None': Int64Index([   0,   17,   24,   29,   34,   36,   40,   47,   49,   51,\n",
       "             ...\n",
       "              980,  981,  997, 1015, 1018, 1031, 1037, 1043, 1050, 1055],\n",
       "            dtype='int64', length=146),\n",
       " 'Other (please specify)': Int64Index([   1,    9,  154,  216,  221,  233,  249,  265,  301,  336,  380,\n",
       "              435,  444,  447,  513,  550,  749,  750,  784,  807,  860,  872,\n",
       "              905, 1000, 1007],\n",
       "            dtype='int64')}"
      ]
     },
     "execution_count": 99,
     "metadata": {},
     "output_type": "execute_result"
    }
   ],
   "source": [
    "grouped.groups"
   ]
  },
  {
   "cell_type": "code",
   "execution_count": 100,
   "metadata": {},
   "outputs": [
    {
     "data": {
      "text/plain": [
       "What type of cranberry saucedo you typically have?\n",
       "Canned                    502\n",
       "Homemade                  301\n",
       "None                      146\n",
       "Other (please specify)     25\n",
       "dtype: int64"
      ]
     },
     "execution_count": 100,
     "metadata": {},
     "output_type": "execute_result"
    }
   ],
   "source": [
    "grouped.size()"
   ]
  },
  {
   "cell_type": "code",
   "execution_count": 101,
   "metadata": {},
   "outputs": [
    {
     "data": {
      "text/plain": [
       "<pandas.core.groupby.generic.SeriesGroupBy object at 0x00000236FB2BA3C8>"
      ]
     },
     "execution_count": 101,
     "metadata": {},
     "output_type": "execute_result"
    }
   ],
   "source": [
    "grouped['income']"
   ]
  },
  {
   "cell_type": "code",
   "execution_count": 102,
   "metadata": {},
   "outputs": [
    {
     "data": {
      "text/plain": [
       "What type of cranberry saucedo you typically have?\n",
       "Canned                    502\n",
       "Homemade                  301\n",
       "None                      146\n",
       "Other (please specify)     25\n",
       "Name: income, dtype: int64"
      ]
     },
     "execution_count": 102,
     "metadata": {},
     "output_type": "execute_result"
    }
   ],
   "source": [
    "grouped['income'].size()"
   ]
  },
  {
   "cell_type": "markdown",
   "metadata": {},
   "source": [
    "#### Aggregating values in groups"
   ]
  },
  {
   "cell_type": "code",
   "execution_count": 103,
   "metadata": {},
   "outputs": [
    {
     "data": {
      "text/plain": [
       "What type of cranberry saucedo you typically have?\n",
       "Canned                    83823.403409\n",
       "Homemade                  94878.107287\n",
       "None                      78886.084034\n",
       "Other (please specify)    86629.978261\n",
       "Name: income, dtype: float64"
      ]
     },
     "execution_count": 103,
     "metadata": {},
     "output_type": "execute_result"
    }
   ],
   "source": [
    "grouped['income'].agg(np.mean)"
   ]
  },
  {
   "cell_type": "code",
   "execution_count": 104,
   "metadata": {},
   "outputs": [
    {
     "data": {
      "text/html": [
       "<div>\n",
       "<style scoped>\n",
       "    .dataframe tbody tr th:only-of-type {\n",
       "        vertical-align: middle;\n",
       "    }\n",
       "\n",
       "    .dataframe tbody tr th {\n",
       "        vertical-align: top;\n",
       "    }\n",
       "\n",
       "    .dataframe thead th {\n",
       "        text-align: right;\n",
       "    }\n",
       "</style>\n",
       "<table border=\"1\" class=\"dataframe\">\n",
       "  <thead>\n",
       "    <tr style=\"text-align: right;\">\n",
       "      <th></th>\n",
       "      <th>RespondentID</th>\n",
       "      <th>gender</th>\n",
       "      <th>income</th>\n",
       "    </tr>\n",
       "    <tr>\n",
       "      <th>What type of cranberry saucedo you typically have?</th>\n",
       "      <th></th>\n",
       "      <th></th>\n",
       "      <th></th>\n",
       "    </tr>\n",
       "  </thead>\n",
       "  <tbody>\n",
       "    <tr>\n",
       "      <th>Canned</th>\n",
       "      <td>4.336699e+09</td>\n",
       "      <td>0.552846</td>\n",
       "      <td>83823.403409</td>\n",
       "    </tr>\n",
       "    <tr>\n",
       "      <th>Homemade</th>\n",
       "      <td>4.336792e+09</td>\n",
       "      <td>0.533101</td>\n",
       "      <td>94878.107287</td>\n",
       "    </tr>\n",
       "    <tr>\n",
       "      <th>None</th>\n",
       "      <td>4.336765e+09</td>\n",
       "      <td>0.517483</td>\n",
       "      <td>78886.084034</td>\n",
       "    </tr>\n",
       "    <tr>\n",
       "      <th>Other (please specify)</th>\n",
       "      <td>4.336763e+09</td>\n",
       "      <td>0.640000</td>\n",
       "      <td>86629.978261</td>\n",
       "    </tr>\n",
       "  </tbody>\n",
       "</table>\n",
       "</div>"
      ],
      "text/plain": [
       "                                                    RespondentID    gender  \\\n",
       "What type of cranberry saucedo you typically have?                           \n",
       "Canned                                              4.336699e+09  0.552846   \n",
       "Homemade                                            4.336792e+09  0.533101   \n",
       "None                                                4.336765e+09  0.517483   \n",
       "Other (please specify)                              4.336763e+09  0.640000   \n",
       "\n",
       "                                                          income  \n",
       "What type of cranberry saucedo you typically have?                \n",
       "Canned                                              83823.403409  \n",
       "Homemade                                            94878.107287  \n",
       "None                                                78886.084034  \n",
       "Other (please specify)                              86629.978261  "
      ]
     },
     "execution_count": 104,
     "metadata": {},
     "output_type": "execute_result"
    }
   ],
   "source": [
    "grouped.agg(np.mean)"
   ]
  },
  {
   "cell_type": "markdown",
   "metadata": {},
   "source": [
    "#### Plotting the results of aggregation"
   ]
  },
  {
   "cell_type": "code",
   "execution_count": 107,
   "metadata": {},
   "outputs": [
    {
     "data": {
      "text/plain": [
       "<matplotlib.axes._subplots.AxesSubplot at 0x236fcf67978>"
      ]
     },
     "execution_count": 107,
     "metadata": {},
     "output_type": "execute_result"
    },
    {
     "data": {
      "image/png": "[encoded data removed]",
      "text/plain": [
       "<Figure size 432x288 with 1 Axes>"
      ]
     },
     "metadata": {
      "needs_background": "light"
     },
     "output_type": "display_data"
    }
   ],
   "source": [
    "sauce = grouped.agg(np.mean)\n",
    "sauce['income'].plot(kind = 'bar')"
   ]
  },
  {
   "cell_type": "markdown",
   "metadata": {},
   "source": [
    "#### Aggregating with multiple columns"
   ]
  },
  {
   "cell_type": "code",
   "execution_count": 109,
   "metadata": {},
   "outputs": [
    {
     "data": {
      "text/html": [
       "<div>\n",
       "<style scoped>\n",
       "    .dataframe tbody tr th:only-of-type {\n",
       "        vertical-align: middle;\n",
       "    }\n",
       "\n",
       "    .dataframe tbody tr th {\n",
       "        vertical-align: top;\n",
       "    }\n",
       "\n",
       "    .dataframe thead th {\n",
       "        text-align: right;\n",
       "    }\n",
       "</style>\n",
       "<table border=\"1\" class=\"dataframe\">\n",
       "  <thead>\n",
       "    <tr style=\"text-align: right;\">\n",
       "      <th></th>\n",
       "      <th></th>\n",
       "      <th>RespondentID</th>\n",
       "      <th>gender</th>\n",
       "      <th>income</th>\n",
       "    </tr>\n",
       "    <tr>\n",
       "      <th>What type of cranberry saucedo you typically have?</th>\n",
       "      <th>What is typically the main dish at your Thanksgiving dinner?</th>\n",
       "      <th></th>\n",
       "      <th></th>\n",
       "      <th></th>\n",
       "    </tr>\n",
       "  </thead>\n",
       "  <tbody>\n",
       "    <tr>\n",
       "      <th rowspan=\"7\" valign=\"top\">Canned</th>\n",
       "      <th>Chicken</th>\n",
       "      <td>4.336354e+09</td>\n",
       "      <td>0.333333</td>\n",
       "      <td>80999.600000</td>\n",
       "    </tr>\n",
       "    <tr>\n",
       "      <th>Ham/Pork</th>\n",
       "      <td>4.336757e+09</td>\n",
       "      <td>0.642857</td>\n",
       "      <td>77499.535714</td>\n",
       "    </tr>\n",
       "    <tr>\n",
       "      <th>I don't know</th>\n",
       "      <td>4.335987e+09</td>\n",
       "      <td>0.000000</td>\n",
       "      <td>4999.500000</td>\n",
       "    </tr>\n",
       "    <tr>\n",
       "      <th>Other (please specify)</th>\n",
       "      <td>4.336682e+09</td>\n",
       "      <td>1.000000</td>\n",
       "      <td>53213.785714</td>\n",
       "    </tr>\n",
       "    <tr>\n",
       "      <th>Roast beef</th>\n",
       "      <td>4.336254e+09</td>\n",
       "      <td>0.571429</td>\n",
       "      <td>25499.500000</td>\n",
       "    </tr>\n",
       "    <tr>\n",
       "      <th>Tofurkey</th>\n",
       "      <td>4.337157e+09</td>\n",
       "      <td>0.714286</td>\n",
       "      <td>100713.857143</td>\n",
       "    </tr>\n",
       "    <tr>\n",
       "      <th>Turkey</th>\n",
       "      <td>4.336705e+09</td>\n",
       "      <td>0.544444</td>\n",
       "      <td>85242.682045</td>\n",
       "    </tr>\n",
       "    <tr>\n",
       "      <th rowspan=\"8\" valign=\"top\">Homemade</th>\n",
       "      <th>Chicken</th>\n",
       "      <td>4.336540e+09</td>\n",
       "      <td>0.750000</td>\n",
       "      <td>19999.500000</td>\n",
       "    </tr>\n",
       "    <tr>\n",
       "      <th>Ham/Pork</th>\n",
       "      <td>4.337253e+09</td>\n",
       "      <td>0.250000</td>\n",
       "      <td>96874.625000</td>\n",
       "    </tr>\n",
       "    <tr>\n",
       "      <th>I don't know</th>\n",
       "      <td>4.336084e+09</td>\n",
       "      <td>1.000000</td>\n",
       "      <td>NaN</td>\n",
       "    </tr>\n",
       "    <tr>\n",
       "      <th>Other (please specify)</th>\n",
       "      <td>4.336863e+09</td>\n",
       "      <td>0.600000</td>\n",
       "      <td>55356.642857</td>\n",
       "    </tr>\n",
       "    <tr>\n",
       "      <th>Roast beef</th>\n",
       "      <td>4.336174e+09</td>\n",
       "      <td>0.000000</td>\n",
       "      <td>33749.500000</td>\n",
       "    </tr>\n",
       "    <tr>\n",
       "      <th>Tofurkey</th>\n",
       "      <td>4.336790e+09</td>\n",
       "      <td>0.666667</td>\n",
       "      <td>57916.166667</td>\n",
       "    </tr>\n",
       "    <tr>\n",
       "      <th>Turducken</th>\n",
       "      <td>4.337475e+09</td>\n",
       "      <td>0.500000</td>\n",
       "      <td>200000.000000</td>\n",
       "    </tr>\n",
       "    <tr>\n",
       "      <th>Turkey</th>\n",
       "      <td>4.336791e+09</td>\n",
       "      <td>0.531008</td>\n",
       "      <td>97690.147982</td>\n",
       "    </tr>\n",
       "    <tr>\n",
       "      <th rowspan=\"8\" valign=\"top\">None</th>\n",
       "      <th>Chicken</th>\n",
       "      <td>4.336151e+09</td>\n",
       "      <td>0.500000</td>\n",
       "      <td>11249.500000</td>\n",
       "    </tr>\n",
       "    <tr>\n",
       "      <th>Ham/Pork</th>\n",
       "      <td>4.336680e+09</td>\n",
       "      <td>0.444444</td>\n",
       "      <td>61249.500000</td>\n",
       "    </tr>\n",
       "    <tr>\n",
       "      <th>I don't know</th>\n",
       "      <td>4.336412e+09</td>\n",
       "      <td>0.500000</td>\n",
       "      <td>33749.500000</td>\n",
       "    </tr>\n",
       "    <tr>\n",
       "      <th>Other (please specify)</th>\n",
       "      <td>4.336688e+09</td>\n",
       "      <td>0.600000</td>\n",
       "      <td>119106.678571</td>\n",
       "    </tr>\n",
       "    <tr>\n",
       "      <th>Roast beef</th>\n",
       "      <td>4.337424e+09</td>\n",
       "      <td>0.000000</td>\n",
       "      <td>162499.500000</td>\n",
       "    </tr>\n",
       "    <tr>\n",
       "      <th>Tofurkey</th>\n",
       "      <td>4.336950e+09</td>\n",
       "      <td>0.500000</td>\n",
       "      <td>112499.500000</td>\n",
       "    </tr>\n",
       "    <tr>\n",
       "      <th>Turducken</th>\n",
       "      <td>4.336739e+09</td>\n",
       "      <td>0.000000</td>\n",
       "      <td>NaN</td>\n",
       "    </tr>\n",
       "    <tr>\n",
       "      <th>Turkey</th>\n",
       "      <td>4.336784e+09</td>\n",
       "      <td>0.523364</td>\n",
       "      <td>74606.275281</td>\n",
       "    </tr>\n",
       "    <tr>\n",
       "      <th rowspan=\"4\" valign=\"top\">Other (please specify)</th>\n",
       "      <th>Ham/Pork</th>\n",
       "      <td>4.336465e+09</td>\n",
       "      <td>1.000000</td>\n",
       "      <td>87499.500000</td>\n",
       "    </tr>\n",
       "    <tr>\n",
       "      <th>Other (please specify)</th>\n",
       "      <td>4.337335e+09</td>\n",
       "      <td>0.000000</td>\n",
       "      <td>124999.666667</td>\n",
       "    </tr>\n",
       "    <tr>\n",
       "      <th>Tofurkey</th>\n",
       "      <td>4.336122e+09</td>\n",
       "      <td>1.000000</td>\n",
       "      <td>37499.500000</td>\n",
       "    </tr>\n",
       "    <tr>\n",
       "      <th>Turkey</th>\n",
       "      <td>4.336724e+09</td>\n",
       "      <td>0.700000</td>\n",
       "      <td>82916.194444</td>\n",
       "    </tr>\n",
       "  </tbody>\n",
       "</table>\n",
       "</div>"
      ],
      "text/plain": [
       "                                                                                                       RespondentID  \\\n",
       "What type of cranberry saucedo you typically have? What is typically the main dish at your Thanksg...                 \n",
       "Canned                                             Chicken                                             4.336354e+09   \n",
       "                                                   Ham/Pork                                            4.336757e+09   \n",
       "                                                   I don't know                                        4.335987e+09   \n",
       "                                                   Other (please specify)                              4.336682e+09   \n",
       "                                                   Roast beef                                          4.336254e+09   \n",
       "                                                   Tofurkey                                            4.337157e+09   \n",
       "                                                   Turkey                                              4.336705e+09   \n",
       "Homemade                                           Chicken                                             4.336540e+09   \n",
       "                                                   Ham/Pork                                            4.337253e+09   \n",
       "                                                   I don't know                                        4.336084e+09   \n",
       "                                                   Other (please specify)                              4.336863e+09   \n",
       "                                                   Roast beef                                          4.336174e+09   \n",
       "                                                   Tofurkey                                            4.336790e+09   \n",
       "                                                   Turducken                                           4.337475e+09   \n",
       "                                                   Turkey                                              4.336791e+09   \n",
       "None                                               Chicken                                             4.336151e+09   \n",
       "                                                   Ham/Pork                                            4.336680e+09   \n",
       "                                                   I don't know                                        4.336412e+09   \n",
       "                                                   Other (please specify)                              4.336688e+09   \n",
       "                                                   Roast beef                                          4.337424e+09   \n",
       "                                                   Tofurkey                                            4.336950e+09   \n",
       "                                                   Turducken                                           4.336739e+09   \n",
       "                                                   Turkey                                              4.336784e+09   \n",
       "Other (please specify)                             Ham/Pork                                            4.336465e+09   \n",
       "                                                   Other (please specify)                              4.337335e+09   \n",
       "                                                   Tofurkey                                            4.336122e+09   \n",
       "                                                   Turkey                                              4.336724e+09   \n",
       "\n",
       "                                                                                                         gender  \\\n",
       "What type of cranberry saucedo you typically have? What is typically the main dish at your Thanksg...             \n",
       "Canned                                             Chicken                                             0.333333   \n",
       "                                                   Ham/Pork                                            0.642857   \n",
       "                                                   I don't know                                        0.000000   \n",
       "                                                   Other (please specify)                              1.000000   \n",
       "                                                   Roast beef                                          0.571429   \n",
       "                                                   Tofurkey                                            0.714286   \n",
       "                                                   Turkey                                              0.544444   \n",
       "Homemade                                           Chicken                                             0.750000   \n",
       "                                                   Ham/Pork                                            0.250000   \n",
       "                                                   I don't know                                        1.000000   \n",
       "                                                   Other (please specify)                              0.600000   \n",
       "                                                   Roast beef                                          0.000000   \n",
       "                                                   Tofurkey                                            0.666667   \n",
       "                                                   Turducken                                           0.500000   \n",
       "                                                   Turkey                                              0.531008   \n",
       "None                                               Chicken                                             0.500000   \n",
       "                                                   Ham/Pork                                            0.444444   \n",
       "                                                   I don't know                                        0.500000   \n",
       "                                                   Other (please specify)                              0.600000   \n",
       "                                                   Roast beef                                          0.000000   \n",
       "                                                   Tofurkey                                            0.500000   \n",
       "                                                   Turducken                                           0.000000   \n",
       "                                                   Turkey                                              0.523364   \n",
       "Other (please specify)                             Ham/Pork                                            1.000000   \n",
       "                                                   Other (please specify)                              0.000000   \n",
       "                                                   Tofurkey                                            1.000000   \n",
       "                                                   Turkey                                              0.700000   \n",
       "\n",
       "                                                                                                              income  \n",
       "What type of cranberry saucedo you typically have? What is typically the main dish at your Thanksg...                 \n",
       "Canned                                             Chicken                                              80999.600000  \n",
       "                                                   Ham/Pork                                             77499.535714  \n",
       "                                                   I don't know                                          4999.500000  \n",
       "                                                   Other (please specify)                               53213.785714  \n",
       "                                                   Roast beef                                           25499.500000  \n",
       "                                                   Tofurkey                                            100713.857143  \n",
       "                                                   Turkey                                               85242.682045  \n",
       "Homemade                                           Chicken                                              19999.500000  \n",
       "                                                   Ham/Pork                                             96874.625000  \n",
       "                                                   I don't know                                                  NaN  \n",
       "                                                   Other (please specify)                               55356.642857  \n",
       "                                                   Roast beef                                           33749.500000  \n",
       "                                                   Tofurkey                                             57916.166667  \n",
       "                                                   Turducken                                           200000.000000  \n",
       "                                                   Turkey                                               97690.147982  \n",
       "None                                               Chicken                                              11249.500000  \n",
       "                                                   Ham/Pork                                             61249.500000  \n",
       "                                                   I don't know                                         33749.500000  \n",
       "                                                   Other (please specify)                              119106.678571  \n",
       "                                                   Roast beef                                          162499.500000  \n",
       "                                                   Tofurkey                                            112499.500000  \n",
       "                                                   Turducken                                                     NaN  \n",
       "                                                   Turkey                                               74606.275281  \n",
       "Other (please specify)                             Ham/Pork                                             87499.500000  \n",
       "                                                   Other (please specify)                              124999.666667  \n",
       "                                                   Tofurkey                                             37499.500000  \n",
       "                                                   Turkey                                               82916.194444  "
      ]
     },
     "execution_count": 109,
     "metadata": {},
     "output_type": "execute_result"
    }
   ],
   "source": [
    "grouped = data.groupby([\"What type of cranberry saucedo you typically have?\", \"What is typically the main dish at your Thanksgiving dinner?\"])\n",
    "grouped.agg(np.mean)"
   ]
  },
  {
   "cell_type": "markdown",
   "metadata": {},
   "source": [
    "Some interesting patterns:\n",
    "\n",
    "- People who have Turducken and Homemade cranberry sauce seem to have high household incomes.\n",
    "- People who eat Canned cranberry sauce tend to have lower incomes, but those who also have Roast Beef have the lowest incomes.\n",
    "- It looks like there’s one person who has Canned cranberry sauce and doesn’t know what type of main dish he’s having."
   ]
  },
  {
   "cell_type": "markdown",
   "metadata": {},
   "source": [
    "#### Aggregating with multiple functions"
   ]
  },
  {
   "cell_type": "code",
   "execution_count": 110,
   "metadata": {},
   "outputs": [
    {
     "data": {
      "text/html": [
       "<div>\n",
       "<style scoped>\n",
       "    .dataframe tbody tr th:only-of-type {\n",
       "        vertical-align: middle;\n",
       "    }\n",
       "\n",
       "    .dataframe tbody tr th {\n",
       "        vertical-align: top;\n",
       "    }\n",
       "\n",
       "    .dataframe thead th {\n",
       "        text-align: right;\n",
       "    }\n",
       "</style>\n",
       "<table border=\"1\" class=\"dataframe\">\n",
       "  <thead>\n",
       "    <tr style=\"text-align: right;\">\n",
       "      <th></th>\n",
       "      <th></th>\n",
       "      <th>mean</th>\n",
       "      <th>sum</th>\n",
       "      <th>std</th>\n",
       "    </tr>\n",
       "    <tr>\n",
       "      <th>What type of cranberry saucedo you typically have?</th>\n",
       "      <th>What is typically the main dish at your Thanksgiving dinner?</th>\n",
       "      <th></th>\n",
       "      <th></th>\n",
       "      <th></th>\n",
       "    </tr>\n",
       "  </thead>\n",
       "  <tbody>\n",
       "    <tr>\n",
       "      <th rowspan=\"7\" valign=\"top\">Canned</th>\n",
       "      <th>Chicken</th>\n",
       "      <td>80999.600000</td>\n",
       "      <td>404998.0</td>\n",
       "      <td>75779.481062</td>\n",
       "    </tr>\n",
       "    <tr>\n",
       "      <th>Ham/Pork</th>\n",
       "      <td>77499.535714</td>\n",
       "      <td>1084993.5</td>\n",
       "      <td>56645.063944</td>\n",
       "    </tr>\n",
       "    <tr>\n",
       "      <th>I don't know</th>\n",
       "      <td>4999.500000</td>\n",
       "      <td>4999.5</td>\n",
       "      <td>NaN</td>\n",
       "    </tr>\n",
       "    <tr>\n",
       "      <th>Other (please specify)</th>\n",
       "      <td>53213.785714</td>\n",
       "      <td>372496.5</td>\n",
       "      <td>29780.946290</td>\n",
       "    </tr>\n",
       "    <tr>\n",
       "      <th>Roast beef</th>\n",
       "      <td>25499.500000</td>\n",
       "      <td>127497.5</td>\n",
       "      <td>24584.039538</td>\n",
       "    </tr>\n",
       "    <tr>\n",
       "      <th>Tofurkey</th>\n",
       "      <td>100713.857143</td>\n",
       "      <td>704997.0</td>\n",
       "      <td>61351.484439</td>\n",
       "    </tr>\n",
       "    <tr>\n",
       "      <th>Turkey</th>\n",
       "      <td>85242.682045</td>\n",
       "      <td>34182315.5</td>\n",
       "      <td>55687.436102</td>\n",
       "    </tr>\n",
       "    <tr>\n",
       "      <th rowspan=\"3\" valign=\"top\">Homemade</th>\n",
       "      <th>Chicken</th>\n",
       "      <td>19999.500000</td>\n",
       "      <td>59998.5</td>\n",
       "      <td>16393.596311</td>\n",
       "    </tr>\n",
       "    <tr>\n",
       "      <th>Ham/Pork</th>\n",
       "      <td>96874.625000</td>\n",
       "      <td>387498.5</td>\n",
       "      <td>77308.452805</td>\n",
       "    </tr>\n",
       "    <tr>\n",
       "      <th>I don't know</th>\n",
       "      <td>NaN</td>\n",
       "      <td>0.0</td>\n",
       "      <td>NaN</td>\n",
       "    </tr>\n",
       "  </tbody>\n",
       "</table>\n",
       "</div>"
      ],
      "text/plain": [
       "                                                                                                                mean  \\\n",
       "What type of cranberry saucedo you typically have? What is typically the main dish at your Thanksg...                  \n",
       "Canned                                             Chicken                                              80999.600000   \n",
       "                                                   Ham/Pork                                             77499.535714   \n",
       "                                                   I don't know                                          4999.500000   \n",
       "                                                   Other (please specify)                               53213.785714   \n",
       "                                                   Roast beef                                           25499.500000   \n",
       "                                                   Tofurkey                                            100713.857143   \n",
       "                                                   Turkey                                               85242.682045   \n",
       "Homemade                                           Chicken                                              19999.500000   \n",
       "                                                   Ham/Pork                                             96874.625000   \n",
       "                                                   I don't know                                                  NaN   \n",
       "\n",
       "                                                                                                              sum  \\\n",
       "What type of cranberry saucedo you typically have? What is typically the main dish at your Thanksg...               \n",
       "Canned                                             Chicken                                               404998.0   \n",
       "                                                   Ham/Pork                                             1084993.5   \n",
       "                                                   I don't know                                            4999.5   \n",
       "                                                   Other (please specify)                                372496.5   \n",
       "                                                   Roast beef                                            127497.5   \n",
       "                                                   Tofurkey                                              704997.0   \n",
       "                                                   Turkey                                              34182315.5   \n",
       "Homemade                                           Chicken                                                59998.5   \n",
       "                                                   Ham/Pork                                              387498.5   \n",
       "                                                   I don't know                                               0.0   \n",
       "\n",
       "                                                                                                                std  \n",
       "What type of cranberry saucedo you typically have? What is typically the main dish at your Thanksg...                \n",
       "Canned                                             Chicken                                             75779.481062  \n",
       "                                                   Ham/Pork                                            56645.063944  \n",
       "                                                   I don't know                                                 NaN  \n",
       "                                                   Other (please specify)                              29780.946290  \n",
       "                                                   Roast beef                                          24584.039538  \n",
       "                                                   Tofurkey                                            61351.484439  \n",
       "                                                   Turkey                                              55687.436102  \n",
       "Homemade                                           Chicken                                             16393.596311  \n",
       "                                                   Ham/Pork                                            77308.452805  \n",
       "                                                   I don't know                                                 NaN  "
      ]
     },
     "execution_count": 110,
     "metadata": {},
     "output_type": "execute_result"
    }
   ],
   "source": [
    "grouped[\"income\"].agg([np.mean, np.sum, np.std]).head(10)"
   ]
  },
  {
   "cell_type": "markdown",
   "metadata": {},
   "source": [
    "#### Using apply on groups"
   ]
  },
  {
   "cell_type": "code",
   "execution_count": 111,
   "metadata": {},
   "outputs": [
    {
     "data": {
      "text/plain": [
       "How would you describe where you live?                        \n",
       "Rural                                   Turkey                    189\n",
       "                                        Other (please specify)      9\n",
       "                                        Ham/Pork                    7\n",
       "                                        I don't know                3\n",
       "                                        Tofurkey                    3\n",
       "                                        Turducken                   2\n",
       "                                        Chicken                     2\n",
       "                                        Roast beef                  1\n",
       "Suburban                                Turkey                    449\n",
       "                                        Ham/Pork                   17\n",
       "                                        Other (please specify)     13\n",
       "                                        Tofurkey                    9\n",
       "                                        Chicken                     3\n",
       "                                        Roast beef                  3\n",
       "                                        I don't know                1\n",
       "                                        Turducken                   1\n",
       "Urban                                   Turkey                    198\n",
       "                                        Other (please specify)     13\n",
       "                                        Tofurkey                    8\n",
       "                                        Chicken                     7\n",
       "                                        Roast beef                  6\n",
       "                                        Ham/Pork                    4\n",
       "Name: What is typically the main dish at your Thanksgiving dinner?, dtype: int64"
      ]
     },
     "execution_count": 111,
     "metadata": {},
     "output_type": "execute_result"
    }
   ],
   "source": [
    "grouped = data.groupby(\"How would you describe where you live?\")[\"What is typically the main dish at your Thanksgiving dinner?\"]\n",
    "grouped.apply(lambda x:x.value_counts())"
   ]
  },
  {
   "cell_type": "code",
   "execution_count": null,
   "metadata": {},
   "outputs": [],
   "source": []
  },
  {
   "cell_type": "code",
   "execution_count": null,
   "metadata": {},
   "outputs": [],
   "source": []
  }
 ],
 "metadata": {
  "kernelspec": {
   "display_name": "Python 3",
   "language": "python",
   "name": "python3"
  },
  "language_info": {
   "codemirror_mode": {
    "name": "ipython",
    "version": 3
   },
   "file_extension": ".py",
   "mimetype": "text/x-python",
   "name": "python",
   "nbconvert_exporter": "python",
   "pygments_lexer": "ipython3",
   "version": "3.7.3"
  }
 },
 "nbformat": 4,
 "nbformat_minor": 2
}
